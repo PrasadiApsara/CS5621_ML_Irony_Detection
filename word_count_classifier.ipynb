{
 "cells": [
  {
   "cell_type": "code",
   "execution_count": null,
   "metadata": {},
   "outputs": [],
   "source": [
    "# Count vectors are used as features here.\n",
    "# A count vector normally represents a matrix which contains the frequencies of tokens in documents."
   ]
  },
  {
   "cell_type": "code",
   "execution_count": 1,
   "metadata": {},
   "outputs": [
    {
     "name": "stderr",
     "output_type": "stream",
     "text": [
      "Using TensorFlow backend.\n"
     ]
    }
   ],
   "source": [
    "# Import Libraries\n",
    "from sklearn import model_selection, preprocessing, linear_model, naive_bayes, metrics, svm\n",
    "from sklearn.feature_extraction.text import TfidfVectorizer, CountVectorizer\n",
    "from sklearn import decomposition, ensemble\n",
    "%matplotlib inline\n",
    "import matplotlib.pyplot as plt\n",
    "import pandas, numpy as np, string\n",
    "from keras.preprocessing import text, sequence\n",
    "from keras import layers, models, optimizers"
   ]
  },
  {
   "cell_type": "code",
   "execution_count": 2,
   "metadata": {},
   "outputs": [
    {
     "name": "stdout",
     "output_type": "stream",
     "text": [
      "      Tweet index  Label                                         Tweet text\n",
      "0               1      1  Sweet United Nations video. Just in time for C...\n",
      "1               2      1  @mrdahl87 We are rumored to have talked to Erv...\n",
      "2               3      1  Hey there! Nice to see you Minnesota/ND Winter...\n",
      "3               4      0                3 episodes left I'm dying over here\n",
      "4               5      1  I can't breathe! was chosen as the most notabl...\n",
      "5               6      0  You're never too old for Footie Pajamas. http:...\n",
      "6               7      1  Nothing makes me happier then getting on the h...\n",
      "7               8      0  4:30 an opening my first beer now gonna be a l...\n",
      "8               9      0  @Adam_Klug do you think you would support a gu...\n",
      "9              10      0  @samcguigan544 You are not allowed to open tha...\n",
      "10             11      1  Oh, thank GOD - our entire office email system...\n",
      "11             12      0  But instead, I'm scrolling through Facebook, I...\n",
      "12             13      0  @TargetZonePT ð¡ no he bloody isn't I was up...\n",
      "13             14      0  Cold or warmth both suffuse one's cheeks with ...\n",
      "14             15      1  Just great when you're mobile bill arrives by ...\n",
      "15             16      1  crushes are great until you realize they'll ne...\n",
      "16             17      1  Buffalo sports media is smarter than all of us...\n",
      "17             18      0  I guess my cat also lost 3 pounds when she wen...\n",
      "18             19      1  @YankeesWFAN @Ken_Rosenthal trading a SP for a...\n",
      "19             20      1  But @DarklightDave was trying to find us, and ...\n",
      "20             21      1  @deputymartinski please do..i need the second ...\n",
      "21             22      0  I never cared for Beyonce, bc I could never ge...\n",
      "22             23      1       @yWTorres9 time to hit the books then #irony\n",
      "23             24      0  @RushOrderTees THX4FLW! FLWtheMUSIC @ElektrikE...\n",
      "24             25      1  Love these cold winter mornings ð¬ best feel...\n",
      "25             26      0  Amazingly http://t.co/NEioZuNbLD is not owned ...\n",
      "26             27      0  Wish she could have told me herself. @NicoleSc...\n",
      "27             28      0             The rain has made extra extra lazyð",
      "\n",
      "28             29      0  I was doing great with this summary of my year...\n",
      "29             30      0  see, that MIGHT show up on a background check,...\n",
      "...           ...    ...                                                ...\n",
      "3804         3805      0  @Nylons @quick13 @jamieyuccas @chadhartman it ...\n",
      "3805         3806      0  @TheFollowingFOX I get paid 4 posting stuff li...\n",
      "3806         3807      0  @Abelv03 @KWAPT I just want learning from this...\n",
      "3807         3808      0  Only ones in the cinema #not #putting #my #pho...\n",
      "3808         3809      1  @BBCRadMac @StuartMaconie years ago in M && S ...\n",
      "3809         3810      0  Montana Of 300 14 - THE BEST Versace Remix IN ...\n",
      "3810         3811      1  I should of just made a canvas of coffee stain...\n",
      "3811         3812      1        The world is such a smiley place. ð³ #not\n",
      "3812         3813      0  Two Broke Rednecks father/daughter riffing tea...\n",
      "3813         3814      0  #WTF is happening to these kids??? Are you kid...\n",
      "3814         3815      0  I would have made a much more convincing Bella...\n",
      "3815         3816      1  I retweeted this so Chris Graham blocked me. #...\n",
      "3816         3817      0            Fries With That 304 #AlabamaStateMajors\n",
      "3817         3818      0  @StartUpGrindBuf @magnachef If you need a #dev...\n",
      "3818         3819      1  I'm glad the DC Council has it's priorities in...\n",
      "3819         3820      0          Riding the distraction train. ||CHOO CHOO\n",
      "3820         3821      0  Chill #Repost #Dead #Not #Dominos #Haha ðð...\n",
      "3821         3822      1  Someone I work w doesn't let his kids believe ...\n",
      "3822         3823      0  Check out my new post! MyFairDaily: 10 Things ...\n",
      "3823         3824      1  Obama whisked away to hospital, diagnosed with...\n",
      "3824         3825      0  @DCsportsGrl @DragonflyJonez true n that's y w...\n",
      "3825         3826      0  Another one of our support vehicles modified f...\n",
      "3826         3827      1           Thanks for shutting the city down.. #not\n",
      "3827         3828      1  @flippysgardenia IKR?! don't you see? he's gon...\n",
      "3828         3829      1  Glad there's not a typhoon where we go on holi...\n",
      "3829         3830      0  @banditelli regarding what the PSU president does\n",
      "3830         3831      0  @banditelli But still bothers me that I see no...\n",
      "3831         3832      0  well now that i've listened to all of into the...\n",
      "3832         3833      0  Hummingbirds #Are #Not #Experts #at #Hovering ...\n",
      "3833         3834      0  Only thing missing now is a session at the gym...\n",
      "\n",
      "[3834 rows x 3 columns]\n",
      "     Index                                               Text\n",
      "0        1  @Callisto1947 Can U Help?||More conservatives ...\n",
      "1        2  Just walked in to #Starbucks and asked for a \"...\n",
      "2        3              #NOT GONNA WIN http://t.co/Mc9ebqjAqj\n",
      "3        4  @mickymantell He is exactly that sort of perso...\n",
      "4        5  So much #sarcasm at work mate 10/10 #boring 10...\n",
      "5        6               Corny jokes are my absolute favorite\n",
      "6        7  People complain about my backround pic and all...\n",
      "7        8  @SR_Duncan @benpobjie Darn, my sock joke needs...\n",
      "8        9  if Christian expects Fifa to sleep in my bed w...\n",
      "9       10  People who tell people with anxiety to \"just s...\n",
      "10      11  Most important thing I've learned in school ht...\n",
      "11      12  #OrionLaunch underway - yeah! #Orion http://t....\n",
      "12      13  I love context and large ensemble Fridays!!!!!...\n",
      "13      14  Oh boy... @masongoodman in the house. Warm up ...\n",
      "14      15  LIAR, i've never denied the 532 murders in Chi...\n",
      "15      16  Always classy, never trashy and just a little ...\n",
      "16      17  you believe you can say something, provide no ...\n",
      "17      18  @ALL #Not #Long To Go #Before #MainStream #Med...\n",
      "18      19  @Praise1300 Re: Jamie Grace has Tourette's? Th...\n",
      "19      20  @CorporalFrisk Guess they didn't get the memo ...\n",
      "20      21  Exam na jud. Merry christmas. ||#Sarcasm|#Kill...\n",
      "21      22  The definition of #IRONY would be if a 77-year...\n",
      "22      23  Pretty excited about how you gave up on me. Fi...\n",
      "23      24  Who told the #hipsters that #irony was a thing...\n",
      "24      25              @bigedh456 u know that. How u doing??\n",
      "25      26  @LukeLPearson hmm... let me think about that #...\n",
      "26      27  If you wanna look like a badass, have drama on...\n",
      "27      28  How dare Charles Barkley have an intelligent c...\n",
      "28      29  @LaurenBailes I think the general rule is, if ...\n",
      "29      30  Natalie Prass - Bird of Prey: http://t.co/n7Yg...\n",
      "..     ...                                                ...\n",
      "754    755  Re: prison book ban - Of course Grayling is al...\n",
      "755    756  Rolled out of bed for closing.... #ilookreally...\n",
      "756    757  Watching VT and Cincy - qb for VT with (GODS) ...\n",
      "757    758  you seem super smart MT \"@GrannyMarried: @Docj...\n",
      "758    759                 @Nialljenk8 Cheers bro! Top man ??\n",
      "759    760  Even getting cooked breakfast.. Hes defo up to...\n",
      "760    761  ROFLMAO yeah, OOPS is right @Gumlegs @RBRNetwo...\n",
      "761    762  Coin ! LeCoinCanard: Coin ! LeCoinCanard: Coin...\n",
      "762    763               I really want to see Into The Woods!\n",
      "763    764  @JoshuaSinghAIW that bump off the apron looked...\n",
      "764    765  @GazGShore please make me smile this Xmas.. Fi...\n",
      "765    766  @lawsondath92 Hope the header didn't mess up t...\n",
      "766    767  If it's NOT? then it IS! Hand Crafted Artistic...\n",
      "767    768  It's okay @TicketmasterCA I didn't really want...\n",
      "768    769  I'll try to guess the ASCII symbols without my...\n",
      "769    770  Hearing gun shots when I first wake up makes m...\n",
      "770    771  Protesters upset over decision in chokehold de...\n",
      "771    772  @classicdrwho247 Great,& not sure if i've seen...\n",
      "772    773  #TGIF oh just kidding I have 30 mins from one ...\n",
      "773    774  Just got yelled at by proxy. It's going to be ...\n",
      "774    775  Lol everyday excuse the language #relationship...\n",
      "775    776  Making the most out of my last vacation day. #...\n",
      "776    777  What a lovely day to drive #not #boo #fog #wor...\n",
      "777    778  So restaurants that thrive on the social natur...\n",
      "778    779  This long drive home later in the snow is gonn...\n",
      "779    780  If you drag yesterday into today, your tomorro...\n",
      "780    781  Congrats to my fav @JennyBrew & her team & my ...\n",
      "781    782  @allkpop: Jessica sheds tears at her fan signi...\n",
      "782    783  #Irony: al jazeera is pro Anti - #GamerGate be...\n",
      "783    784  #NOT ALL ?? There good & bad in every occupati...\n",
      "\n",
      "[784 rows x 2 columns]\n"
     ]
    }
   ],
   "source": [
    "# load the dataset\n",
    "train = pandas.read_csv('/Users/PrasadiA/Desktop/train.csv', encoding = \"unicode_escape\")\n",
    "test = pandas.read_csv('/Users/PrasadiA/Desktop/tests.csv', encoding = \"unicode_escape\")\n",
    "print(train)\n",
    "print(test)"
   ]
  },
  {
   "cell_type": "code",
   "execution_count": 3,
   "metadata": {},
   "outputs": [],
   "source": [
    "# split the dataset into training and validation datasets \n",
    "train_x, valid_x, train_y, valid_y = model_selection.train_test_split(train['Tweet text'], train['Label'])"
   ]
  },
  {
   "cell_type": "code",
   "execution_count": 4,
   "metadata": {},
   "outputs": [
    {
     "data": {
      "text/plain": [
       "CountVectorizer(analyzer='word', binary=False, decode_error='strict',\n",
       "        dtype=<class 'numpy.int64'>, encoding='utf-8', input='content',\n",
       "        lowercase=True, max_df=1.0, max_features=None, min_df=1,\n",
       "        ngram_range=(1, 1), preprocessor=None, stop_words=None,\n",
       "        strip_accents=None, token_pattern='\\\\w{1,}', tokenizer=None,\n",
       "        vocabulary=None)"
      ]
     },
     "execution_count": 4,
     "metadata": {},
     "output_type": "execute_result"
    }
   ],
   "source": [
    "# create a count vectorizer object \n",
    "count_vect = CountVectorizer(analyzer='word', token_pattern=r'\\w{1,}')\n",
    "count_vect.fit(train['Tweet text'])\n",
    "count_vect.fit(test['Text'])"
   ]
  },
  {
   "cell_type": "code",
   "execution_count": 5,
   "metadata": {},
   "outputs": [],
   "source": [
    "# transform the training and validation data using count vectorizer object\n",
    "xtrain_count =  count_vect.transform(train_x)\n",
    "xvalid_count =  count_vect.transform(valid_x)\n",
    "xtest_count  =   count_vect.transform(test['Text'])\n",
    "\n",
    "x_count_train = pandas.DataFrame(xtrain_count.toarray(), columns=count_vect.get_feature_names())\n",
    "x_count_valid = pandas.DataFrame(xvalid_count.toarray(), columns=count_vect.get_feature_names())"
   ]
  },
  {
   "cell_type": "code",
   "execution_count": 6,
   "metadata": {},
   "outputs": [],
   "source": [
    "x_count_train_df = x_count_train.copy()\n",
    "x_count_valid_df = x_count_valid.copy()\n",
    "\n",
    "word_count_train = pandas.DataFrame(x_count_train_df.apply(sum,axis = 0)).reset_index()\n",
    "word_count_train.columns = ['col_names','count']\n",
    "word_count_train = word_count_train.sort_values(['count'],ascending = [False])\n",
    "\n",
    "\n",
    "word_count_valid = pandas.DataFrame(x_count_valid_df.apply(sum,axis = 0)).reset_index()\n",
    "word_count_valid.columns = ['col_names','count']\n",
    "word_count_valid = word_count_valid.sort_values(['count'],ascending = [False])"
   ]
  },
  {
   "cell_type": "code",
   "execution_count": 7,
   "metadata": {},
   "outputs": [],
   "source": [
    "#dropping the zero count words\n",
    "word_count_train = word_count_train[word_count_train['count'] > 500]\n",
    "\n",
    "word_count_valid = word_count_valid[word_count_valid['count'] > 100]"
   ]
  },
  {
   "cell_type": "code",
   "execution_count": 8,
   "metadata": {},
   "outputs": [
    {
     "data": {
      "image/png": "[encoded data removed]",
      "text/plain": [
       "<Figure size 432x288 with 1 Axes>"
      ]
     },
     "metadata": {
      "needs_background": "light"
     },
     "output_type": "display_data"
    },
    {
     "data": {
      "image/png": "[encoded data removed]",
      "text/plain": [
       "<Figure size 432x288 with 1 Axes>"
      ]
     },
     "metadata": {
      "needs_background": "light"
     },
     "output_type": "display_data"
    }
   ],
   "source": [
    "#Plots the word distribution\n",
    "plt.bar(np.arange(len(word_count_train)),word_count_train['count'],0.5)\n",
    "plt.xticks(np.arange(len(word_count_train)), word_count_train['col_names'])\n",
    "plt.ylabel('word_count')\n",
    "plt.show()\n",
    "\n",
    "plt.bar(np.arange(len(word_count_valid)),word_count_valid['count'],0.5)\n",
    "plt.xticks(np.arange(len(word_count_valid)), word_count_valid['col_names'])\n",
    "plt.ylabel('word_count')\n",
    "plt.show()"
   ]
  },
  {
   "cell_type": "code",
   "execution_count": 9,
   "metadata": {},
   "outputs": [],
   "source": [
    "def train_model(classifier, feature_vector_train, label, feature_vector_valid, feature_vector_test, is_neural_net=False):\n",
    "    # fit the training dataset on the classifier\n",
    "    classifier.fit(feature_vector_train, label)\n",
    "    \n",
    "    # predict the labels on validation dataset\n",
    "    predictions = classifier.predict(feature_vector_valid)\n",
    "    \n",
    "    #predict the labels on tests data set\n",
    "    predictions_test = classifier.predict(feature_vector_test)\n",
    "    np.savetxt(\"prediction.csv\", predictions_test, delimiter=\",\")\n",
    "    \n",
    "    if is_neural_net:\n",
    "        predictions = predictions.argmax(axis=-1)\n",
    "    \n",
    "    return metrics.accuracy_score(predictions, valid_y)"
   ]
  },
  {
   "cell_type": "code",
   "execution_count": 10,
   "metadata": {},
   "outputs": [
    {
     "name": "stdout",
     "output_type": "stream",
     "text": [
      "NB, Count Vectors:  0.7455683003128258\n"
     ]
    }
   ],
   "source": [
    "# Naive Bayes on Count Vectors\n",
    "accuracy = train_model(naive_bayes.MultinomialNB(), xtrain_count, train_y, xvalid_count, xtest_count)\n",
    "print (\"NB, Count Vectors: \", accuracy)"
   ]
  },
  {
   "cell_type": "code",
   "execution_count": 11,
   "metadata": {},
   "outputs": [
    {
     "name": "stdout",
     "output_type": "stream",
     "text": [
      "LR, Count Vectors:  0.8717413972888426\n"
     ]
    },
    {
     "name": "stderr",
     "output_type": "stream",
     "text": [
      "c:\\users\\prasadia\\appdata\\local\\continuum\\anaconda2\\envs\\tensorflow\\lib\\site-packages\\sklearn\\linear_model\\logistic.py:432: FutureWarning: Default solver will be changed to 'lbfgs' in 0.22. Specify a solver to silence this warning.\n",
      "  FutureWarning)\n"
     ]
    }
   ],
   "source": [
    "# Linear Classifier on Count Vectors\n",
    "accuracy = train_model(linear_model.LogisticRegression(), xtrain_count, train_y, xvalid_count, xtest_count)\n",
    "print (\"LR, Count Vectors: \", accuracy)"
   ]
  },
  {
   "cell_type": "code",
   "execution_count": 12,
   "metadata": {},
   "outputs": [
    {
     "name": "stderr",
     "output_type": "stream",
     "text": [
      "c:\\users\\prasadia\\appdata\\local\\continuum\\anaconda2\\envs\\tensorflow\\lib\\site-packages\\sklearn\\svm\\base.py:196: FutureWarning: The default value of gamma will change from 'auto' to 'scale' in version 0.22 to account better for unscaled features. Set gamma explicitly to 'auto' or 'scale' to avoid this warning.\n",
      "  \"avoid this warning.\", FutureWarning)\n"
     ]
    },
    {
     "name": "stdout",
     "output_type": "stream",
     "text": [
      "SVM, Count Vectors:  0.4859228362877998\n"
     ]
    }
   ],
   "source": [
    "# SVM on Count Vectors\n",
    "accuracy = train_model(svm.SVC(), xtrain_count, train_y, xvalid_count, xtest_count)\n",
    "print (\"SVM, Count Vectors: \", accuracy)"
   ]
  },
  {
   "cell_type": "code",
   "execution_count": 13,
   "metadata": {},
   "outputs": [
    {
     "name": "stderr",
     "output_type": "stream",
     "text": [
      "c:\\users\\prasadia\\appdata\\local\\continuum\\anaconda2\\envs\\tensorflow\\lib\\site-packages\\sklearn\\ensemble\\forest.py:248: FutureWarning: The default value of n_estimators will change from 10 in version 0.20 to 100 in 0.22.\n",
      "  \"10 in version 0.20 to 100 in 0.22.\", FutureWarning)\n"
     ]
    },
    {
     "name": "stdout",
     "output_type": "stream",
     "text": [
      "RF, Count Vectors:  0.8279457768508863\n"
     ]
    }
   ],
   "source": [
    "# RF on Count Vectors\n",
    "accuracy = train_model(ensemble.RandomForestClassifier(), xtrain_count, train_y, xvalid_count, xtest_count)\n",
    "print (\"RF, Count Vectors: \", accuracy)"
   ]
  },
  {
   "cell_type": "code",
   "execution_count": null,
   "metadata": {},
   "outputs": [],
   "source": []
  },
  {
   "cell_type": "code",
   "execution_count": null,
   "metadata": {
    "collapsed": true
   },
   "outputs": [],
   "source": []
  }
 ],
 "metadata": {
  "kernelspec": {
   "display_name": "Python 3",
   "language": "python",
   "name": "python3"
  },
  "language_info": {
   "codemirror_mode": {
    "name": "ipython",
    "version": 3
   },
   "file_extension": ".py",
   "mimetype": "text/x-python",
   "name": "python",
   "nbconvert_exporter": "python",
   "pygments_lexer": "ipython3",
   "version": "3.5.6"
  }
 },
 "nbformat": 4,
 "nbformat_minor": 2
}
